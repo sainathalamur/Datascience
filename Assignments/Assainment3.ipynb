{
  "cells": [
    {
      "cell_type": "code",
      "execution_count": 4,
      "metadata": {
        "colab": {
          "base_uri": "https://localhost:8080/"
        },
        "id": "aWA-Ai961guI",
        "outputId": "a862e1c8-397b-441a-8801-09eff7e4a4a5"
      },
      "outputs": [
        {
          "name": "stdout",
          "output_type": "stream",
          "text": [
            "h\n"
          ]
        }
      ],
      "source": [
        "# 1.print the list without vowels using list comprehensions\n",
        "a='hai'\n",
        "output = ''.join([char for char in a if char.lower() not in 'aeiou'])\n",
        "print(output)"
      ]
    },
    {
      "cell_type": "code",
      "execution_count": 6,
      "metadata": {
        "colab": {
          "base_uri": "https://localhost:8080/"
        },
        "id": "o9fLgbV6aUeM",
        "outputId": "76ed8227-272f-4b08-eba1-c20e5916fe74"
      },
      "outputs": [
        {
          "name": "stdout",
          "output_type": "stream",
          "text": [
            "dt\n"
          ]
        }
      ],
      "source": [
        "# 2.Print only vowels from the text using List comprehensions\n",
        "a='data'\n",
        "output = ''.join([char for char in a if char.lower()  not in 'aeiou'])\n",
        "print(output)"
      ]
    },
    {
      "cell_type": "code",
      "execution_count": 7,
      "metadata": {
        "colab": {
          "base_uri": "https://localhost:8080/"
        },
        "id": "U60Rxbpn4Fgz",
        "outputId": "c9f198d0-d76b-4ce4-d5c2-b5c1b72e7a86"
      },
      "outputs": [
        {
          "name": "stdout",
          "output_type": "stream",
          "text": [
            "[100, 111, 502, 343]\n"
          ]
        }
      ],
      "source": [
        "#3.print each valu from the list with its index\n",
        "a=[10,11,50,34]\n",
        "b=[]\n",
        "for i in range(len(a)):\n",
        "    c=a[i]\n",
        "    b.append(int(str(c)+str(i)))\n",
        "print(b)"
      ]
    },
    {
      "cell_type": "code",
      "execution_count": 8,
      "metadata": {
        "colab": {
          "base_uri": "https://localhost:8080/"
        },
        "id": "QD_O1Ztv4GHb",
        "outputId": "7f4599c2-3fff-45e9-eec0-02b522c339fe"
      },
      "outputs": [
        {
          "name": "stdout",
          "output_type": "stream",
          "text": [
            "1\n",
            "5\n",
            "7\n",
            "11\n",
            "13\n",
            "17\n",
            "19\n",
            "23\n",
            "25\n",
            "29\n",
            "31\n",
            "35\n",
            "37\n",
            "41\n",
            "43\n",
            "47\n",
            "49\n"
          ]
        }
      ],
      "source": [
        "#4.This is a Python Program to print all integers that aren’t divisible by either 2 or 3 and lies between 1 and 50.\n",
        "for i in range(1,51):\n",
        "  if i%2!=0 and i%3!=0:\n",
        "    print(i)"
      ]
    },
    {
      "cell_type": "code",
      "execution_count": 10,
      "metadata": {
        "colab": {
          "base_uri": "https://localhost:8080/"
        },
        "id": "h0nywFTp5Bl1",
        "outputId": "eca1278c-7447-4df8-bc0b-3c4891807059"
      },
      "outputs": [
        {
          "name": "stdout",
          "output_type": "stream",
          "text": [
            "25\n",
            "smallest divisor:5\n"
          ]
        }
      ],
      "source": [
        "#5.The program takes in an integer and prints the smallest divisor of the integer.\n",
        "n=int(input())\n",
        "a=[]\n",
        "for i in range(2,n+1):\n",
        "  if n%i==0:\n",
        "    a.append(i)\n",
        "a.sort()\n",
        "print(f'smallest divisor:{a[0]}')"
      ]
    },
    {
      "cell_type": "code",
      "execution_count": 29,
      "metadata": {
        "colab": {
          "base_uri": "https://localhost:8080/"
        },
        "id": "WdOhmlHMfoH8",
        "outputId": "20733343-d4bc-41a9-fd8a-79f5c5ea4eb5"
      },
      "outputs": [
        {
          "name": "stdout",
          "output_type": "stream",
          "text": [
            "Enter a number: 145\n",
            "145 is a strong number.\n"
          ]
        }
      ],
      "source": [
        "#6.Write a Python program to check if it is a strong number or not .\n",
        "number = int(input(\"Enter a number: \"))\n",
        "a = str(number)\n",
        "b = 0\n",
        "for i in a:\n",
        "    n = int(i)\n",
        "    factorial = 1\n",
        "    for j in range(1, n + 1):\n",
        "        factorial *= j\n",
        "    b += factorial\n",
        "if b== number:\n",
        "    print(f\"{number} is a strong number.\")\n",
        "else:\n",
        "    print(f\"{number} is not a strong number.\")\n"
      ]
    },
    {
      "cell_type": "code",
      "execution_count": 12,
      "metadata": {
        "colab": {
          "base_uri": "https://localhost:8080/"
        },
        "id": "cdHQrqoJcjTI",
        "outputId": "c0fe0267-b804-4008-d766-997d5107fc41"
      },
      "outputs": [
        {
          "name": "stdout",
          "output_type": "stream",
          "text": [
            "enter input:SainAth\n",
            "uppercase:SAINATH\n",
            "lowercase:sainath\n"
          ]
        }
      ],
      "source": [
        "#7.Write a Python program that takes input from the user and displays that input back in upper and lower cases.\n",
        "a=input(f'enter input:')\n",
        "print(f'uppercase:{a.upper()}')\n",
        "print(f'lowercase:{a.lower()}')"
      ]
    },
    {
      "cell_type": "code",
      "execution_count": 20,
      "metadata": {
        "colab": {
          "base_uri": "https://localhost:8080/"
        },
        "id": "Luq74QKAdhzR",
        "outputId": "1f7cc398-bd68-4be9-e591-9d3d5b676554"
      },
      "outputs": [
        {
          "name": "stdout",
          "output_type": "stream",
          "text": [
            "sainathreddy\n"
          ]
        }
      ],
      "source": [
        "\n",
        "# 8.Write a Python program to remove spaces from a given string\n",
        "a='sai nath reddy'\n",
        "b=a.replace(' ','')\n",
        "print(b)"
      ]
    },
    {
      "cell_type": "code",
      "execution_count": 26,
      "metadata": {
        "colab": {
          "base_uri": "https://localhost:8080/"
        },
        "id": "SUJirkYCgAkL",
        "outputId": "dd9e1fdb-082c-4783-ddfc-fe4fd6b4e405"
      },
      "outputs": [
        {
          "name": "stdout",
          "output_type": "stream",
          "text": [
            "SaI NatH ReddY\n"
          ]
        }
      ],
      "source": [
        "#9. Write a Python program to capitalize first and last letters of each word of a given string.\n",
        "a='sai nath reddy'\n",
        "b=a.split()\n",
        "result=[]\n",
        "for i in b:\n",
        "  if len(i)>1:\n",
        "    c=i[0].upper()+i[1:-1]+i[-1].upper()\n",
        "  else:\n",
        "    c=i.upper()\n",
        "  result.append(c)\n",
        "d=' '.join(result)\n",
        "print(d)\n",
        "\n"
      ]
    },
    {
      "cell_type": "code",
      "execution_count": 19,
      "metadata": {
        "colab": {
          "base_uri": "https://localhost:8080/"
        },
        "id": "PhHtIVNgeVlz",
        "outputId": "a02182f8-4ddf-440a-9ea2-4762f00f1b57"
      },
      "outputs": [
        {
          "name": "stdout",
          "output_type": "stream",
          "text": [
            "12\n"
          ]
        }
      ],
      "source": [
        "# 10.write a python program to find length of a string but should not use len keyword\n",
        "a='sainathreddy'\n",
        "count=0\n",
        "for i in a:\n",
        "  count=count+1\n",
        "print(count)\n"
      ]
    },
    {
      "cell_type": "code",
      "execution_count": null,
      "metadata": {
        "id": "IeL-WRGujdwK"
      },
      "outputs": [],
      "source": []
    }
  ],
  "metadata": {
    "colab": {
      "provenance": []
    },
    "kernelspec": {
      "display_name": "Python 3",
      "name": "python3"
    },
    "language_info": {
      "name": "python"
    }
  },
  "nbformat": 4,
  "nbformat_minor": 0
}
